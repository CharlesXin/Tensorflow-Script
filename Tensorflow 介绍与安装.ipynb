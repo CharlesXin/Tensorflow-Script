{
 "cells": [
  {
   "cell_type": "markdown",
   "metadata": {},
   "source": [
    "## TensorFlow 简介及安装"
   ]
  },
  {
   "cell_type": "markdown",
   "metadata": {},
   "source": [
    "### Tensorflow 简介\n",
    "\n",
    "TensorFlow™ 是一个采用数据流图（data flow graphs），用于数值计算的开源软件库。节点（Nodes）在图中表示数学操作，图中的线（edges）则表示在节点间相互联系的多维数据数组，即张量（tensor）。它灵活的架构让你可以在多种平台上展开计算，例如台式计算机中的一个或多个CPU（或GPU），服务器，移动设备等等。TensorFlow 最初由Google大脑小组（隶属于Google机器智能研究机构）的研究员和工程师们开发出来，用于机器学习和深度神经网络方面的研究，但这个系统的通用性使其也可广泛用于其他计算领域。 \n",
    "\n"
   ]
  },
  {
   "cell_type": "markdown",
   "metadata": {},
   "source": [
    "\n",
    "\n",
    "### Install tensorflow on windows -- CPU\n",
    "\n",
    "More details can be found here: https://www.tensorflow.org/install/install_windows\n",
    "\n",
    "#### 通过pip安装：\n",
    "\n",
    "Notes: 目前 tensorflow 只适用于 64-bit Python 3.5.X on Windows。如果尝试在 Python3.6 上安装tensorflow会遇到一下error：Could not find a version that satisfies the requirement tensorflow (from versions: ) No matching distribution found for tensorflow.\n",
    "\n",
    "(1) 首先安装 64-bit Python 3.5.X； 下载地址 https://www.python.org/downloads/release/python-352/\n",
    "\n",
    "(2) 安装完 Python之后，打开cmd.exe; 输入指令 pip3 install --upgrade tensorflow \n",
    "\n",
    "(3) 在cmd.exe中进入Python； 输入 import tensorflow as tf\n",
    "\n",
    "\n",
    "#### 通过Anaconda 安装 ： \n",
    "\n",
    "(1) 首先安装 Anaconda； 下载地址：https://www.continuum.io/downloads\n",
    "\n",
    "(2) 打开 Anaconda Prompt; 输入指令 conda create -n tensorflow python=3.5； activate tensorflow； pip install --ignore-installed --upgrade https://storage.googleapis.com/tensorflow/windows/cpu/tensorflow-1.2.1-cp35-cp35m-win_amd64.whl\n",
    "\n",
    "(3) 重启电脑， 进入 Anaconda， 将Applications on 切换成 tensorflow。\n",
    "\n",
    "(4) 打开 jupyter 或者 spyder。 \n",
    "\n",
    "\n",
    "\n",
    "\n",
    "### Install tensorflow on Mac -- CPU\n",
    "\n",
    "\n",
    "在Mac上安装tensorflow有多重途径，我们这里只介绍通过 Anaconda 安装：\n",
    "\n",
    "\n",
    "(1) 首先安装 Anaconda； 下载地址：https://www.continuum.io/downloads\n",
    "\n",
    "(2) 打开 terminal; 输入指令 conda create -n tensorflow； activate tensorflow； pip install --ignore-installed --upgrade \n",
    "\n",
    "(3) 重启电脑， 进入 Anaconda， 将 Applications on 切换成 tensorflow。\n",
    "\n",
    "(4) 打开 jupyter 或者 spyder。 \n"
   ]
  },
  {
   "cell_type": "markdown",
   "metadata": {},
   "source": [
    "### Test Tensorflow in Jupyter"
   ]
  },
  {
   "cell_type": "code",
   "execution_count": 1,
   "metadata": {},
   "outputs": [
    {
     "name": "stdout",
     "output_type": "stream",
     "text": [
      "b'Hello, TensorFlow!'\n"
     ]
    }
   ],
   "source": [
    "import tensorflow as tf\n",
    "hello = tf.constant('Hello, TensorFlow!')\n",
    "sess = tf.Session()\n",
    "print(sess.run(hello))"
   ]
  },
  {
   "cell_type": "markdown",
   "metadata": {},
   "source": [
    "UniDeep 数据科学家将为大家定期奉上Tensorflow和Keras的学习心得。我们会与大家一起从安装Tensorflow开始，系统地整理Tensorflow的学习笔记，并为大家整理Tensorflow在一些经典深度学习模型， 如：AlexNet， ResNet， LSTM上实现的代码。最后我们也会为大家介绍Keras， 这一基于Tensorflow框架的，简单方便的神经网络构建模块。\n",
    "\n",
    "接下来，我们为大家介绍Tensorflow的基本元素。敬请期待！"
   ]
  }
 ],
 "metadata": {
  "anaconda-cloud": {},
  "kernelspec": {
   "display_name": "Python 2",
   "language": "python",
   "name": "python2"
  },
  "language_info": {
   "codemirror_mode": {
    "name": "ipython",
    "version": 2
   },
   "file_extension": ".py",
   "mimetype": "text/x-python",
   "name": "python",
   "nbconvert_exporter": "python",
   "pygments_lexer": "ipython2",
   "version": "2.7.13"
  }
 },
 "nbformat": 4,
 "nbformat_minor": 1
}
