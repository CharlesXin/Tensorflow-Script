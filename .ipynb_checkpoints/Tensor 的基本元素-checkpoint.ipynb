{
 "cells": [
  {
   "cell_type": "markdown",
   "metadata": {},
   "source": [
    "# Tensorflow 的基本元素\n",
    "\n",
    "### 在学习使用 Tensorflow 构建模型之前，我们有必要搞清楚Tensorflow的一些基本元素，或者说基本语法。\n",
    "\n",
    "\n",
    "### 这里我们給大家介绍 Tensorflow的几个名词：\n",
    "\n",
    "* Graph\n",
    "\n",
    "* Session\n",
    "\n",
    "* Tensor\n",
    "\n",
    "* Variable \n",
    "\n",
    "* Feed\n"
   ]
  },
  {
   "cell_type": "markdown",
   "metadata": {},
   "source": [
    "### Graph\n",
    "\n",
    "Tensorflow 有一个不同于别的语言的特点。每一个Tensorflow的程序主要分为两部分，Graph阶段和Session阶段。Graph 用来描述模型的计算过程，Session 用来执行Graph阶段的计算。Graph必须在Session中被启动之后，才会进行运算。Session同时也自动地将Graph中的运算分配到对应的CPU和GPU上。比如，我们可以通过Graph来构建一个神经网络结构，然后在Session阶段反复训练我们已构建的神经网络。\n",
    "\n",
    "Tensorflow之所以这样子设计，是因为其依赖于一个高效的C++后端来进行计算，而与后端的这个连接就叫做session。Python代码的目的是用来构建一个可以在外部运行的Graph，Graph描述完成之后，TensorFlow在Python外部完成其全部工作。 \n",
    "\n",
    "Session在执行Graph之后，将产生的Tensor返回。在Python语言中，返回的Tensor是numpy ndarray。\n",
    "\n",
    "下面的Code是一个非常简单的Graph，定义了一个矩阵乘法运算。"
   ]
  },
  {
   "cell_type": "code",
   "execution_count": 4,
   "metadata": {
    "collapsed": true
   },
   "outputs": [],
   "source": [
    "# import tensorflow package\n",
    "import tensorflow as tf\n",
    "\n",
    "# define a constant called matrix1 \n",
    "matrix1 = tf.constant([[3., 3.]])\n",
    "\n",
    "# define a constant called matrix2 \n",
    "matrix2 = tf.constant([[2.],[2.]])\n",
    "\n",
    "# matrix multiplication: matrix1 * matrix2 called product\n",
    "product = tf.matmul(matrix1, matrix2)"
   ]
  },
  {
   "cell_type": "markdown",
   "metadata": {},
   "source": [
    "### Session\n",
    "\n",
    "构建完Graph之后，我们需要用Session去启动我们定义好的Graph。具体步骤如下："
   ]
  },
  {
   "cell_type": "code",
   "execution_count": null,
   "metadata": {},
   "outputs": [],
   "source": [
    "\n",
    "# open the session by default. \n",
    "sess = tf.Session()\n",
    "\n",
    "# recall the run() function of session to calcualte product which we have defined in the Graph above. \n",
    "result = sess.run(product)\n",
    "print (result) # results is numpy ndarray\n",
    "\n",
    "# close the session\n",
    "sess.close()\n"
   ]
  },
  {
   "cell_type": "code",
   "execution_count": 6,
   "metadata": {},
   "outputs": [
    {
     "name": "stdout",
     "output_type": "stream",
     "text": [
      "[array([[ 12.]], dtype=float32)]\n"
     ]
    }
   ],
   "source": [
    "# another simple way to do it\n",
    "\n",
    "with tf.Session() as sess:\n",
    "  result = sess.run([product])\n",
    "  print(result)"
   ]
  },
  {
   "cell_type": "markdown",
   "metadata": {},
   "source": [
    "### Tensor\n",
    "\n",
    "Tensor 是Tensorflow使用的数据结构。Graph中的数据都是以Tensor的形式传递。你可以把Tensor看做一个array或者list。\n",
    "例如, 一个image可以表示为一个四维浮点数数组的Tensor, [batch, height, width, channels]."
   ]
  },
  {
   "cell_type": "markdown",
   "metadata": {},
   "source": [
    "### Variable\n",
    "\n",
    "\n",
    "当训练模型时，Variable 用来来存储和更新参数。Variable 存放于内存的缓存区。模型训练时，Variable需要被初始化，初始值可以是常量或是随机值。 模型训练后它们必须被存储到磁盘。Variable的值可以在之后模型训练和分析时被加载。\n",
    "\n",
    "例如, 你可以将一个神经网络的权重定义为一个Variable. 在Session的训练过程中, 通过重复调用Graph来更新它的Tensor，进而更新模型的参数。\n",
    "\n",
    "\n",
    "注意的是，所有的 Variable 都需要明确 shape。"
   ]
  },
  {
   "cell_type": "code",
   "execution_count": null,
   "metadata": {
    "collapsed": true
   },
   "outputs": [],
   "source": [
    "# Create two variables.\n",
    "\n",
    "# weights\n",
    "weights = tf.Variable(tf.random_normal([784, 200], stddev=0.35),\n",
    "                      name=\"weights\")\n",
    "\n",
    "# biases\n",
    "biases = tf.Variable(tf.zeros([200]), name=\"biases\")\n"
   ]
  },
  {
   "cell_type": "markdown",
   "metadata": {},
   "source": [
    "使用 tf.initialize_all_variables() 来初始化 Variable， 注意 tf.initialize_all_variables()的使用位置。"
   ]
  },
  {
   "cell_type": "code",
   "execution_count": null,
   "metadata": {
    "collapsed": true
   },
   "outputs": [],
   "source": [
    "# Create two variables.\n",
    "weights = tf.Variable(tf.random_normal([784, 200], stddev=0.35),\n",
    "                      name=\"weights\")\n",
    "\n",
    "biases = tf.Variable(tf.zeros([200]), name=\"biases\")\n",
    "...\n",
    "\n",
    "# initialize the variables.\n",
    "init_op = tf.initialize_all_variables()\n",
    "\n",
    "# Later, when launching the model\n",
    "with tf.Session() as sess:\n",
    "  \n",
    "  # Run the init operation.\n",
    "    sess.run(init_op)\n",
    " \n",
    "  # ...\n",
    "    \n",
    "  \n",
    "  # Use the model\n",
    "  \n",
    "  # ..."
   ]
  },
  {
   "cell_type": "markdown",
   "metadata": {},
   "source": [
    "\n",
    "用 tf.train.Saver() 创建一个 Saver 来管理模型中的所有 Variable 。"
   ]
  },
  {
   "cell_type": "code",
   "execution_count": null,
   "metadata": {
    "collapsed": true
   },
   "outputs": [],
   "source": [
    "# Create two variables.\n",
    "weights = tf.Variable(tf.random_normal([784, 200], stddev=0.35),\n",
    "                      name=\"weights\")\n",
    "\n",
    "biases = tf.Variable(tf.zeros([200]), name=\"biases\")\n",
    "\n",
    "# ...\n",
    "\n",
    "# initialize the variables.\n",
    "init_op = tf.initialize_all_variables()\n",
    "\n",
    "# save and restore all the variables.\n",
    "saver = tf.train.Saver()\n",
    "\n",
    "# Later, when launching the model\n",
    "with tf.Session() as sess:\n",
    "  \n",
    "  # Run the init operation.\n",
    "    sess.run(init_op)\n",
    " \n",
    "  # ...\n",
    "  \n",
    "  # Use the model\n",
    "  \n",
    "  # ...\n",
    "\n",
    "  \n",
    "  # Save the variables to disk.\n",
    "  \n",
    "   save_path = saver.save(sess, \"/tmp/model.ckpt\")\n",
    " \n",
    "   print（\"Model saved in file: \", save_path）\n"
   ]
  },
  {
   "cell_type": "markdown",
   "metadata": {},
   "source": [
    "我们也可以恢复储存好的Variable。注意当恢复Variable时，不需要事先对其做初始化。"
   ]
  },
  {
   "cell_type": "code",
   "execution_count": null,
   "metadata": {
    "collapsed": true
   },
   "outputs": [],
   "source": [
    "# Create two variables.\n",
    "weights = tf.Variable(tf.random_normal([784, 200], stddev=0.35),\n",
    "                      name=\"weights\")\n",
    "\n",
    "biases = tf.Variable(tf.zeros([200]), name=\"biases\")\n",
    "\n",
    "# ...\n",
    "\n",
    "\n",
    "# save and restore all the variables.\n",
    "saver = tf.train.Saver()\n",
    "\n",
    "# Later, when launching the model\n",
    "with tf.Session() as sess:\n",
    "  \n",
    "  # Run the init operation.\n",
    "    sess.run(init_op)\n",
    " \n",
    "  # ...\n",
    "  \n",
    "  # Use the model\n",
    "  \n",
    "  # ...\n",
    "\n",
    "\n",
    "with tf.Session() as sess:\n",
    "  \n",
    "  # Restore variables from disk.\n",
    "     saver.restore(sess, \"/tmp/model.ckpt\")\n",
    " \n",
    "     print（\"Model restored.\"）\n",
    " \n",
    " # Do some work with the model\n",
    "  \n",
    " # ..."
   ]
  },
  {
   "cell_type": "markdown",
   "metadata": {},
   "source": [
    "### Feed\n",
    "\n",
    "在之前的Graph中，我们引入了Tensor，并以constant或者Variable的形式储存。 TensorFlow 同时还可 Feed 数据给模型， 来临时替代 Graph 中的Tensor。我们Feed数据作为 run() 调用的参数. "
   ]
  },
  {
   "cell_type": "code",
   "execution_count": null,
   "metadata": {},
   "outputs": [],
   "source": [
    "\n",
    "# tf.placeholder() can be used to define objects\n",
    "\n",
    "input1 = tf.placeholder(\"float\")\n",
    "input2 = tf.placeholder(\"float\")\n",
    "output = tf.mul(input1, input2)\n",
    "\n",
    "with tf.Session() as sess:\n",
    "    print(sess.run([output], feed_dict={input1:[7.], input2:[2.]}))\n"
   ]
  },
  {
   "cell_type": "markdown",
   "metadata": {},
   "source": [
    "UniDeep 数据科学家将为大家定期奉上Tensorflow和Keras的学习心得。我们会与大家一起从安装Tensorflow开始，系统地整理Tensorflow的学习笔记，并为大家整理Tensorflow在一些经典深度学习模型， 如：AlexNet， ResNet， LSTM上实现的代码。最后我们也会为大家介绍Keras， 这一基于Tensorflow框架的，简单方便的神经网络构建模块。\n",
    "\n",
    "接下来，我们为大家展示一个基于Tensorflow的logistic regression 分类器来更好地理解这些概念，敬请期待！"
   ]
  }
 ],
 "metadata": {
  "anaconda-cloud": {},
  "kernelspec": {
   "display_name": "Python 3",
   "language": "python",
   "name": "python3"
  },
  "language_info": {
   "codemirror_mode": {
    "name": "ipython",
    "version": 3
   },
   "file_extension": ".py",
   "mimetype": "text/x-python",
   "name": "python",
   "nbconvert_exporter": "python",
   "pygments_lexer": "ipython3",
   "version": "3.5.3"
  }
 },
 "nbformat": 4,
 "nbformat_minor": 1
}
